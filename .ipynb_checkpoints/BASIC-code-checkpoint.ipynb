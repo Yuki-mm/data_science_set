{
 "cells": [
  {
   "cell_type": "markdown",
   "metadata": {},
   "source": [
    "## import"
   ]
  },
  {
   "cell_type": "code",
   "execution_count": null,
   "metadata": {},
   "outputs": [],
   "source": [
    "import os\n",
    "os.chdir('../py')\n",
    "import gc\n",
    "import sys\n",
    "import warnings\n",
    "warnings.filterwarnings('ignore')\n",
    "from copy import deepcopy\n",
    "from glob import glob\n",
    "\n",
    "import feather\n",
    "%matplotlib inline\n",
    "import matplotlib.pyplot as plt\n",
    "import seaborn as sns\n",
    "plt.rcParams[\"patch.force_edgecolor\"] = False\n",
    "plt.rcParams['font.family'] = 'Ricty Diminised'\n",
    "sns.set(style=\"whitegrid\", font='Ricty Diminised', palette=\"muted\",\n",
    "        color_codes=True, rc={'grid.linestyle': '--'})\n",
    "red = sns.xkcd_rgb[\"light red\"]\n",
    "green = sns.xkcd_rgb[\"medium green\"]\n",
    "blue = sns.xkcd_rgb[\"denim blue\"]\n",
    "\n",
    "import japanize_matplotlib\n",
    "\n",
    "import EDA"
   ]
  },
  {
   "cell_type": "code",
   "execution_count": null,
   "metadata": {},
   "outputs": [],
   "source": [
    "#分析・集計に使うモジュールとライブラリ\n",
    "import pandas as pd\n",
    "import numpy as np\n",
    "from tqdm import tqdm_notebook\n",
    "\n",
    "#各種機械学習モデル\n",
    "#LogisticRegression\n",
    "from sklearn.linear_model import LogisticRegression\n",
    "#Linear Support Vector Machine\n",
    "from sklearn.svm import LinearSVC\n",
    "#Support Vector Machine\n",
    "from sklearn.svm import SVC\n",
    "#決定木\n",
    "from sklearn.tree import DecisionTreeClassifier\n",
    "#ランダムフォレスト\n",
    "from sklearn.ensemble import RandomForestClassifier\n",
    "#k近傍方（k-neighbor）\n",
    "from sklearn.neighbors import KNeighborsClassifier\n",
    "\n",
    "#学習方法（GridSearchCV）\n",
    "from sklearn.model_selection import GridSearchCV\n",
    "from sklearn.model_selection import cross_val_score\n",
    "from sklearn.model_selection import StratifiedKFold\n",
    "\n",
    "#scikiti-learn\n",
    "from sklearn.preprocessing import LabelEncoder\n",
    "from sklearn.model_selection import KFold,GroupKFold\n",
    "from sklearn.metrics import roc_auc_score\n",
    "\n",
    "#スコアリング（f値）\n",
    "from sklearn.metrics import f1_score\n",
    "\n",
    "#lightgbm\n",
    "import lightgbm as lgb\n",
    "import pandas_profiling as pdp\n"
   ]
  },
  {
   "cell_type": "markdown",
   "metadata": {},
   "source": [
    "## kesson"
   ]
  },
  {
   "cell_type": "code",
   "execution_count": null,
   "metadata": {},
   "outputs": [],
   "source": [
    "def kesson_table(df):\n",
    "    null_val = df.isnull().sum()\n",
    "    percent = 100 * df.isnull().sum()/len(df)\n",
    "    kesson_table = pd.concat([null_val,percent],axis=1)\n",
    "    kesson_table_ren_columns = kesson_table.rename(columns = {0:'lack num',1:'%'})\n",
    "    return kesson_table_ren_columns"
   ]
  },
  {
   "cell_type": "markdown",
   "metadata": {},
   "source": [
    "## pandas profile"
   ]
  },
  {
   "cell_type": "code",
   "execution_count": null,
   "metadata": {},
   "outputs": [],
   "source": [
    "pdp.ProfileReport(train)"
   ]
  },
  {
   "cell_type": "markdown",
   "metadata": {},
   "source": [
    "## cross agg"
   ]
  },
  {
   "cell_type": "code",
   "execution_count": null,
   "metadata": {},
   "outputs": [],
   "source": [
    "pd.crosstab(index=train[\"xxxxx\"],\n",
    "            columns=train[\"yyyyy\"],\n",
    "            normalize=\"index\").plot(kind=\"bar\",stacked=True)\n",
    "plt.xticks(rotation=0)"
   ]
  },
  {
   "cell_type": "markdown",
   "metadata": {},
   "source": [
    "## countplot"
   ]
  },
  {
   "cell_type": "code",
   "execution_count": null,
   "metadata": {},
   "outputs": [],
   "source": [
    "#sns.countplot()はマスターしよう！\n",
    "# https://seaborn.pydata.org/generated/seaborn.countplot.html\n",
    "plt.figure(figsize=(7,4))\n",
    "sns.countplot(x=\"xxxx\",hue=\"yyyy\",data=zzzz)"
   ]
  }
 ],
 "metadata": {
  "kernelspec": {
   "display_name": "Python 3",
   "language": "python",
   "name": "python3"
  },
  "language_info": {
   "codemirror_mode": {
    "name": "ipython",
    "version": 3
   },
   "file_extension": ".py",
   "mimetype": "text/x-python",
   "name": "python",
   "nbconvert_exporter": "python",
   "pygments_lexer": "ipython3",
   "version": "3.7.3"
  }
 },
 "nbformat": 4,
 "nbformat_minor": 2
}
